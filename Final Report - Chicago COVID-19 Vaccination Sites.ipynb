{
 "cells": [
  {
   "cell_type": "markdown",
   "metadata": {},
   "source": [
    "## Problem Description"
   ]
  },
  {
   "cell_type": "markdown",
   "metadata": {},
   "source": [
    "Like many U.S. cities, Chicago is working to provide as many COVID-19 vaccines as possible to its residents. As of 3/24/2021,\n",
    "only 24% of city residents have received at least one dose of a COVID-19 vaccine (1), and 12% of residents have received a complete\n",
    "set of doses of a vaccine. As eligibility requirements are relaxed, and as supply struggles to meet demand, city health officials\n",
    "will be interested in finding ways to make vaccinations as easy and as widely available as possible, especially those that it\n",
    "has identified as being uniquely vulnerable to infection, such as poor and minority communities (2). Besides state-run sites,\n",
    "venues such as grocery stores, pharmacies, and medical centers will serve as local distribution sites that will administer doses\n",
    "to city residents. This project will seek to compare neighborhoods across Chicago based on the number of grocery stores,\n",
    "pharmacies, and medical centers and identify any similarities or differences between neighborhoods. Based on this comparison,\n",
    "this project will remark on any areas of the city that have relatively few venues where vaccines are likely to be obtained."
   ]
  },
  {
   "cell_type": "markdown",
   "metadata": {},
   "source": [
    "## Data Description"
   ]
  },
  {
   "cell_type": "markdown",
   "metadata": {},
   "source": [
    "The data that will be used in the project will be the following:\n",
    "    1 - Names and Lat/Long coordinates of Chicago neighborhoods. These will be obtained from the Chicago Data Portal and the\n",
    "        Geocoder Python package (https://geocoder.readthedocs.io/index.html).\n",
    "    2 - Location data for grocery stores, pharmacies, and medical centers in Chicago. These will be obtained from Foursquare           using its Places API.\n",
    "        \n",
    "With these data, we can use k-means clustering to identify areas of the city that have similar proportions of vaccine sites."
   ]
  },
  {
   "cell_type": "markdown",
   "metadata": {},
   "source": [
    "References\n",
    "\n",
    "1 - \"COVID-19 Daily Vaccinations - Chicago Residents - Cumulative Doses by Day\" Chicago Data Portal, https://data.cityofchicago.org/Health-Human-Services/COVID-19-Daily-Vaccinations-Chicago-Residents-Cumu/rna5-2pgy\n",
    "    Accessed 3/25/2021\n",
    "    \n",
    "2 - \"Chicago COVID-19 Community Vulnerability Index Chicago CCVI\" https://www.chicago.gov/content/dam/city/sites/covid/reports/012521/Community_Vulnerability_Index_012521.pdf"
   ]
  },
  {
   "cell_type": "code",
   "execution_count": null,
   "metadata": {},
   "outputs": [],
   "source": []
  }
 ],
 "metadata": {
  "kernelspec": {
   "display_name": "Python 3",
   "language": "python",
   "name": "python3"
  },
  "language_info": {
   "codemirror_mode": {
    "name": "ipython",
    "version": 3
   },
   "file_extension": ".py",
   "mimetype": "text/x-python",
   "name": "python",
   "nbconvert_exporter": "python",
   "pygments_lexer": "ipython3",
   "version": "3.8.5"
  }
 },
 "nbformat": 4,
 "nbformat_minor": 4
}
